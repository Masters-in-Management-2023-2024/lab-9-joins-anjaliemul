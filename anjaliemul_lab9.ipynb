{
  "cells": [
    {
      "cell_type": "markdown",
      "metadata": {
        "id": "gs_wOGI5yU1w"
      },
      "source": [
        "# OPAN5510 Lab Assignment - Joins\n",
        "\n",
        "This lab focuses on using Polars to perform data joins and aggregations to answer business questions."
      ]
    },
    {
      "cell_type": "markdown",
      "metadata": {
        "id": "1RC5vZJsyU1x"
      },
      "source": [
        "# Bike Trips Dataset\n",
        "\n",
        "## Prerequisites\n",
        "\n",
        "For this assignment, you'll need to use Polars for data manipulation.\n",
        "\n",
        "*Insert a code block to import necessary packages (polars)*"
      ]
    },
    {
      "cell_type": "code",
      "execution_count": 1,
      "metadata": {
        "id": "U6sEu6oqyU1x"
      },
      "outputs": [],
      "source": [
        "# Import necessary packages\n",
        "import polars as pl"
      ]
    },
    {
      "cell_type": "markdown",
      "metadata": {
        "id": "BcAhQENByU1x"
      },
      "source": [
        "## Load Datasets\n",
        "\n",
        "Load the `bike_trips.csv` and `bike_weather.csv` files into Polars DataFrames called `trips` and `weather`, respectively.\n",
        "\n",
        "*Insert code block that reads these files into Polars DataFrames*"
      ]
    },
    {
      "cell_type": "code",
      "execution_count": 2,
      "metadata": {
        "colab": {
          "base_uri": "https://localhost:8080/"
        },
        "id": "O1NJ_d1SyU1x",
        "outputId": "b43f95de-7097-47ea-cad0-3b03aec4ab2e"
      },
      "outputs": [
        {
          "output_type": "stream",
          "name": "stdout",
          "text": [
            "78704\n",
            "733\n"
          ]
        }
      ],
      "source": [
        "# Load the bike trips and weather data\n",
        "trips = pl.read_csv(\"https://raw.githubusercontent.com/philhetzel/opan5510-class9/refs/heads/main/data/bike_trips.csv\", null_values='NA')\n",
        "weather = pl.read_csv(\"https://raw.githubusercontent.com/philhetzel/opan5510-class9/refs/heads/main/data/bike_weather.csv\", null_values=['NA',''])\n",
        "\n",
        "trips = trips.with_columns(pl.col(\"date\").str.strptime(pl.Date, \"%Y-%m-%d\").alias(\"date\")) # ensure date column is typed correctly\n",
        "weather = weather.with_columns(pl.col(\"date\").str.strptime(pl.Date, \"%Y-%m-%d\").alias(\"date\")) # ensure date column is typed correctly\n",
        "print(trips.height)\n",
        "print(weather.height)"
      ]
    },
    {
      "cell_type": "markdown",
      "metadata": {
        "id": "R04JtG9EyU1x"
      },
      "source": [
        "## Business Question 1: What was the average `duration` of trips that occurred in rainy weather?\n",
        "\n",
        "#### Part A: Join the trips and weather data frames\n",
        "\n",
        "The `trips` data represent every ride taken for a bike share company. The `weather` data represent the prevailing weather for a particular day. Join the `trips` and `weather` data together using the `date` column. Name the resulting DataFrame `trips_weather`.\n",
        "\n",
        "*Insert a code block below that joins `trips` to `weather` using the `date` column.*"
      ]
    },
    {
      "cell_type": "code",
      "execution_count": 6,
      "metadata": {
        "id": "LMuv46gAyU1y",
        "colab": {
          "base_uri": "https://localhost:8080/"
        },
        "outputId": "aa80b765-e840-425f-d032-38402001758d"
      },
      "outputs": [
        {
          "output_type": "stream",
          "name": "stdout",
          "text": [
            "shape: (5, 35)\n",
            "┌──────┬──────────┬─────────────┬─────────────┬───┬─────────────┬────────┬────────────┬────────────┐\n",
            "│ id   ┆ duration ┆ start_date  ┆ start_stati ┆ … ┆ cloud_cover ┆ events ┆ wind_dir_d ┆ zip_code_r │\n",
            "│ ---  ┆ ---      ┆ ---         ┆ on_name     ┆   ┆ ---         ┆ ---    ┆ egrees     ┆ ight       │\n",
            "│ i64  ┆ i64      ┆ str         ┆ ---         ┆   ┆ i64         ┆ str    ┆ ---        ┆ ---        │\n",
            "│      ┆          ┆             ┆ str         ┆   ┆             ┆        ┆ i64        ┆ i64        │\n",
            "╞══════╪══════════╪═════════════╪═════════════╪═══╪═════════════╪════════╪════════════╪════════════╡\n",
            "│ 4721 ┆ 3        ┆ 2013-08-29T ┆ Market at   ┆ … ┆ 4           ┆ null   ┆ 286        ┆ 94107      │\n",
            "│      ┆          ┆ 20:27:00Z   ┆ 10th        ┆   ┆             ┆        ┆            ┆            │\n",
            "│ 4812 ┆ 3        ┆ 2013-08-29T ┆ 2nd at      ┆ … ┆ 4           ┆ null   ┆ 286        ┆ 94107      │\n",
            "│      ┆          ┆ 21:30:00Z   ┆ Folsom      ┆   ┆             ┆        ┆            ┆            │\n",
            "│ 4705 ┆ 3        ┆ 2013-08-29T ┆ Golden Gate ┆ … ┆ 4           ┆ null   ┆ 286        ┆ 94107      │\n",
            "│      ┆          ┆ 20:15:00Z   ┆ at Polk     ┆   ┆             ┆        ┆            ┆            │\n",
            "│ 4841 ┆ 3        ┆ 2013-08-29T ┆ University  ┆ … ┆ 4           ┆ null   ┆ 286        ┆ 94107      │\n",
            "│      ┆          ┆ 21:48:00Z   ┆ and Emerson ┆   ┆             ┆        ┆            ┆            │\n",
            "│ 4668 ┆ 4        ┆ 2013-08-29T ┆ San         ┆ … ┆ 4           ┆ null   ┆ 286        ┆ 94107      │\n",
            "│      ┆          ┆ 19:39:00Z   ┆ Francisco   ┆   ┆             ┆        ┆            ┆            │\n",
            "│      ┆          ┆             ┆ Caltrain 2  ┆   ┆             ┆        ┆            ┆            │\n",
            "│      ┆          ┆             ┆ (330 …      ┆   ┆             ┆        ┆            ┆            │\n",
            "└──────┴──────────┴─────────────┴─────────────┴───┴─────────────┴────────┴────────────┴────────────┘\n"
          ]
        }
      ],
      "source": [
        "# Join trips and weather data\n",
        "trips_weather = trips.join(weather, on=\"date\", how=\"left\")\n",
        "\n",
        "# Show the first few rows\n",
        "print(trips_weather.head())"
      ]
    },
    {
      "cell_type": "markdown",
      "metadata": {
        "id": "jAmIh2v9yU1y"
      },
      "source": [
        "#### Part B: Calculate the average `duration` of trips in poor weather\n",
        "\n",
        "Using the `trips_weather` DataFrame, compute the average trip `duration` for days that had weather `events` (i.e. anytime a day had an event of anything but `null`). Name the column for average `duration`: `avg_duration`. The resulting DataFrame should have one row and be named `avg_bad_weather`.\n",
        "\n",
        "*Insert a code block that shows the computation of the average trip duration for days that had a weather event.*"
      ]
    },
    {
      "cell_type": "code",
      "execution_count": 7,
      "metadata": {
        "id": "GfK-KPe2yU1y",
        "colab": {
          "base_uri": "https://localhost:8080/"
        },
        "outputId": "fe585cf3-cbbf-4a50-8718-af79482884e6"
      },
      "outputs": [
        {
          "output_type": "stream",
          "name": "stdout",
          "text": [
            "shape: (1, 1)\n",
            "┌──────────────┐\n",
            "│ avg_duration │\n",
            "│ ---          │\n",
            "│ f64          │\n",
            "╞══════════════╡\n",
            "│ 10.34899     │\n",
            "└──────────────┘\n"
          ]
        }
      ],
      "source": [
        "# Calculate average duration for trips with weather events\n",
        "bad_weather_trips = trips_weather.filter(pl.col(\"events\").is_not_null())\n",
        "avg_bad_weather = bad_weather_trips.select(\n",
        "    pl.col(\"duration\").mean().alias(\"avg_duration\")\n",
        ")\n",
        "\n",
        "print(avg_bad_weather)"
      ]
    },
    {
      "cell_type": "markdown",
      "metadata": {
        "id": "r1HZVy2qyU1y"
      },
      "source": [
        "# Baseball Dataset\n",
        "\n",
        "## Load Data\n",
        "\n",
        "Load the `Batting.csv`, `People.csv`, and `HallOfFame.csv` datasets into Polars DataFrames.\n",
        "\n",
        "*Insert a code block to load your datasets*"
      ]
    },
    {
      "cell_type": "code",
      "execution_count": 11,
      "metadata": {
        "id": "qrZO72DTyU1y",
        "colab": {
          "base_uri": "https://localhost:8080/",
          "height": 255
        },
        "outputId": "cffc9861-c70a-41f3-9f68-b32b4b0f0ace"
      },
      "outputs": [
        {
          "output_type": "execute_result",
          "data": {
            "text/plain": [
              "shape: (5, 22)\n",
              "┌───────────┬────────┬───────┬────────┬───┬──────┬──────┬──────┬──────┐\n",
              "│ playerID  ┆ yearID ┆ stint ┆ teamID ┆ … ┆ HBP  ┆ SH   ┆ SF   ┆ GIDP │\n",
              "│ ---       ┆ ---    ┆ ---   ┆ ---    ┆   ┆ ---  ┆ ---  ┆ ---  ┆ ---  │\n",
              "│ str       ┆ i64    ┆ i64   ┆ str    ┆   ┆ str  ┆ str  ┆ str  ┆ i64  │\n",
              "╞═══════════╪════════╪═══════╪════════╪═══╪══════╪══════╪══════╪══════╡\n",
              "│ abercda01 ┆ 1871   ┆ 1     ┆ TRO    ┆ … ┆ null ┆ null ┆ null ┆ 0    │\n",
              "│ addybo01  ┆ 1871   ┆ 1     ┆ RC1    ┆ … ┆ null ┆ null ┆ null ┆ 0    │\n",
              "│ allisar01 ┆ 1871   ┆ 1     ┆ CL1    ┆ … ┆ null ┆ null ┆ null ┆ 1    │\n",
              "│ allisdo01 ┆ 1871   ┆ 1     ┆ WS3    ┆ … ┆ null ┆ null ┆ null ┆ 0    │\n",
              "│ ansonca01 ┆ 1871   ┆ 1     ┆ RC1    ┆ … ┆ null ┆ null ┆ null ┆ 0    │\n",
              "└───────────┴────────┴───────┴────────┴───┴──────┴──────┴──────┴──────┘"
            ],
            "text/html": [
              "<div><style>\n",
              ".dataframe > thead > tr,\n",
              ".dataframe > tbody > tr {\n",
              "  text-align: right;\n",
              "  white-space: pre-wrap;\n",
              "}\n",
              "</style>\n",
              "<small>shape: (5, 22)</small><table border=\"1\" class=\"dataframe\"><thead><tr><th>playerID</th><th>yearID</th><th>stint</th><th>teamID</th><th>lgID</th><th>G</th><th>AB</th><th>R</th><th>H</th><th>X2B</th><th>X3B</th><th>HR</th><th>RBI</th><th>SB</th><th>CS</th><th>BB</th><th>SO</th><th>IBB</th><th>HBP</th><th>SH</th><th>SF</th><th>GIDP</th></tr><tr><td>str</td><td>i64</td><td>i64</td><td>str</td><td>str</td><td>i64</td><td>i64</td><td>i64</td><td>i64</td><td>i64</td><td>i64</td><td>i64</td><td>i64</td><td>i64</td><td>i64</td><td>i64</td><td>i64</td><td>str</td><td>str</td><td>str</td><td>str</td><td>i64</td></tr></thead><tbody><tr><td>&quot;abercda01&quot;</td><td>1871</td><td>1</td><td>&quot;TRO&quot;</td><td>null</td><td>1</td><td>4</td><td>0</td><td>0</td><td>0</td><td>0</td><td>0</td><td>0</td><td>0</td><td>0</td><td>0</td><td>0</td><td>null</td><td>null</td><td>null</td><td>null</td><td>0</td></tr><tr><td>&quot;addybo01&quot;</td><td>1871</td><td>1</td><td>&quot;RC1&quot;</td><td>null</td><td>25</td><td>118</td><td>30</td><td>32</td><td>6</td><td>0</td><td>0</td><td>13</td><td>8</td><td>1</td><td>4</td><td>0</td><td>null</td><td>null</td><td>null</td><td>null</td><td>0</td></tr><tr><td>&quot;allisar01&quot;</td><td>1871</td><td>1</td><td>&quot;CL1&quot;</td><td>null</td><td>29</td><td>137</td><td>28</td><td>40</td><td>4</td><td>5</td><td>0</td><td>19</td><td>3</td><td>1</td><td>2</td><td>5</td><td>null</td><td>null</td><td>null</td><td>null</td><td>1</td></tr><tr><td>&quot;allisdo01&quot;</td><td>1871</td><td>1</td><td>&quot;WS3&quot;</td><td>null</td><td>27</td><td>133</td><td>28</td><td>44</td><td>10</td><td>2</td><td>2</td><td>27</td><td>1</td><td>1</td><td>0</td><td>2</td><td>null</td><td>null</td><td>null</td><td>null</td><td>0</td></tr><tr><td>&quot;ansonca01&quot;</td><td>1871</td><td>1</td><td>&quot;RC1&quot;</td><td>null</td><td>25</td><td>120</td><td>29</td><td>39</td><td>11</td><td>3</td><td>0</td><td>16</td><td>6</td><td>2</td><td>2</td><td>1</td><td>null</td><td>null</td><td>null</td><td>null</td><td>0</td></tr></tbody></table></div>"
            ]
          },
          "metadata": {},
          "execution_count": 11
        }
      ],
      "source": [
        "# Load baseball datasets\n",
        "Batting = pl.read_csv(\"https://raw.githubusercontent.com/philhetzel/opan5510-class9/refs/heads/main/data/Batting.csv\", null_values='NA')\n",
        "People = pl.read_csv(\"https://raw.githubusercontent.com/philhetzel/opan5510-class9/refs/heads/main/data/People.csv\", null_values='NA')\n",
        "HallOfFame = pl.read_csv(\"https://raw.githubusercontent.com/philhetzel/opan5510-class9/refs/heads/main/data/HallOfFame.csv\", null_values='NA')\n",
        "Batting.head()\n"
      ]
    },
    {
      "cell_type": "code",
      "source": [
        "People.head()"
      ],
      "metadata": {
        "colab": {
          "base_uri": "https://localhost:8080/",
          "height": 361
        },
        "id": "lTjS4rRPChVN",
        "outputId": "e40981aa-ac98-48bd-d8ca-771633222eea"
      },
      "execution_count": 12,
      "outputs": [
        {
          "output_type": "execute_result",
          "data": {
            "text/plain": [
              "shape: (5, 26)\n",
              "┌───────────┬───────────┬────────────┬──────────┬───┬──────────┬───────────┬───────────┬───────────┐\n",
              "│ playerID  ┆ birthYear ┆ birthMonth ┆ birthDay ┆ … ┆ retroID  ┆ bbrefID   ┆ deathDate ┆ birthDate │\n",
              "│ ---       ┆ ---       ┆ ---        ┆ ---      ┆   ┆ ---      ┆ ---       ┆ ---       ┆ ---       │\n",
              "│ str       ┆ i64       ┆ i64        ┆ i64      ┆   ┆ str      ┆ str       ┆ str       ┆ str       │\n",
              "╞═══════════╪═══════════╪════════════╪══════════╪═══╪══════════╪═══════════╪═══════════╪═══════════╡\n",
              "│ aardsda01 ┆ 1981      ┆ 12         ┆ 27       ┆ … ┆ aardd001 ┆ aardsda01 ┆ null      ┆ 1981-12-2 │\n",
              "│           ┆           ┆            ┆          ┆   ┆          ┆           ┆           ┆ 7         │\n",
              "│ aaronha01 ┆ 1934      ┆ 2          ┆ 5        ┆ … ┆ aaroh101 ┆ aaronha01 ┆ 2021-01-2 ┆ 1934-02-0 │\n",
              "│           ┆           ┆            ┆          ┆   ┆          ┆           ┆ 2         ┆ 5         │\n",
              "│ aaronto01 ┆ 1939      ┆ 8          ┆ 5        ┆ … ┆ aarot101 ┆ aaronto01 ┆ 1984-08-1 ┆ 1939-08-0 │\n",
              "│           ┆           ┆            ┆          ┆   ┆          ┆           ┆ 6         ┆ 5         │\n",
              "│ aasedo01  ┆ 1954      ┆ 9          ┆ 8        ┆ … ┆ aased001 ┆ aasedo01  ┆ null      ┆ 1954-09-0 │\n",
              "│           ┆           ┆            ┆          ┆   ┆          ┆           ┆           ┆ 8         │\n",
              "│ abadan01  ┆ 1972      ┆ 8          ┆ 25       ┆ … ┆ abada001 ┆ abadan01  ┆ null      ┆ 1972-08-2 │\n",
              "│           ┆           ┆            ┆          ┆   ┆          ┆           ┆           ┆ 5         │\n",
              "└───────────┴───────────┴────────────┴──────────┴───┴──────────┴───────────┴───────────┴───────────┘"
            ],
            "text/html": [
              "<div><style>\n",
              ".dataframe > thead > tr,\n",
              ".dataframe > tbody > tr {\n",
              "  text-align: right;\n",
              "  white-space: pre-wrap;\n",
              "}\n",
              "</style>\n",
              "<small>shape: (5, 26)</small><table border=\"1\" class=\"dataframe\"><thead><tr><th>playerID</th><th>birthYear</th><th>birthMonth</th><th>birthDay</th><th>birthCountry</th><th>birthState</th><th>birthCity</th><th>deathYear</th><th>deathMonth</th><th>deathDay</th><th>deathCountry</th><th>deathState</th><th>deathCity</th><th>nameFirst</th><th>nameLast</th><th>nameGiven</th><th>weight</th><th>height</th><th>bats</th><th>throws</th><th>debut</th><th>finalGame</th><th>retroID</th><th>bbrefID</th><th>deathDate</th><th>birthDate</th></tr><tr><td>str</td><td>i64</td><td>i64</td><td>i64</td><td>str</td><td>str</td><td>str</td><td>i64</td><td>i64</td><td>i64</td><td>str</td><td>str</td><td>str</td><td>str</td><td>str</td><td>str</td><td>i64</td><td>i64</td><td>str</td><td>str</td><td>str</td><td>str</td><td>str</td><td>str</td><td>str</td><td>str</td></tr></thead><tbody><tr><td>&quot;aardsda01&quot;</td><td>1981</td><td>12</td><td>27</td><td>&quot;USA&quot;</td><td>&quot;CO&quot;</td><td>&quot;Denver&quot;</td><td>null</td><td>null</td><td>null</td><td>null</td><td>null</td><td>null</td><td>&quot;David&quot;</td><td>&quot;Aardsma&quot;</td><td>&quot;David Allan&quot;</td><td>215</td><td>75</td><td>&quot;R&quot;</td><td>&quot;R&quot;</td><td>&quot;2004-04-06&quot;</td><td>&quot;2015-08-23&quot;</td><td>&quot;aardd001&quot;</td><td>&quot;aardsda01&quot;</td><td>null</td><td>&quot;1981-12-27&quot;</td></tr><tr><td>&quot;aaronha01&quot;</td><td>1934</td><td>2</td><td>5</td><td>&quot;USA&quot;</td><td>&quot;AL&quot;</td><td>&quot;Mobile&quot;</td><td>2021</td><td>1</td><td>22</td><td>&quot;USA&quot;</td><td>&quot;GA&quot;</td><td>&quot;Atlanta&quot;</td><td>&quot;Hank&quot;</td><td>&quot;Aaron&quot;</td><td>&quot;Henry Louis&quot;</td><td>180</td><td>72</td><td>&quot;R&quot;</td><td>&quot;R&quot;</td><td>&quot;1954-04-13&quot;</td><td>&quot;1976-10-03&quot;</td><td>&quot;aaroh101&quot;</td><td>&quot;aaronha01&quot;</td><td>&quot;2021-01-22&quot;</td><td>&quot;1934-02-05&quot;</td></tr><tr><td>&quot;aaronto01&quot;</td><td>1939</td><td>8</td><td>5</td><td>&quot;USA&quot;</td><td>&quot;AL&quot;</td><td>&quot;Mobile&quot;</td><td>1984</td><td>8</td><td>16</td><td>&quot;USA&quot;</td><td>&quot;GA&quot;</td><td>&quot;Atlanta&quot;</td><td>&quot;Tommie&quot;</td><td>&quot;Aaron&quot;</td><td>&quot;Tommie Lee&quot;</td><td>190</td><td>75</td><td>&quot;R&quot;</td><td>&quot;R&quot;</td><td>&quot;1962-04-10&quot;</td><td>&quot;1971-09-26&quot;</td><td>&quot;aarot101&quot;</td><td>&quot;aaronto01&quot;</td><td>&quot;1984-08-16&quot;</td><td>&quot;1939-08-05&quot;</td></tr><tr><td>&quot;aasedo01&quot;</td><td>1954</td><td>9</td><td>8</td><td>&quot;USA&quot;</td><td>&quot;CA&quot;</td><td>&quot;Orange&quot;</td><td>null</td><td>null</td><td>null</td><td>null</td><td>null</td><td>null</td><td>&quot;Don&quot;</td><td>&quot;Aase&quot;</td><td>&quot;Donald William&quot;</td><td>190</td><td>75</td><td>&quot;R&quot;</td><td>&quot;R&quot;</td><td>&quot;1977-07-26&quot;</td><td>&quot;1990-10-03&quot;</td><td>&quot;aased001&quot;</td><td>&quot;aasedo01&quot;</td><td>null</td><td>&quot;1954-09-08&quot;</td></tr><tr><td>&quot;abadan01&quot;</td><td>1972</td><td>8</td><td>25</td><td>&quot;USA&quot;</td><td>&quot;FL&quot;</td><td>&quot;Palm Beach&quot;</td><td>null</td><td>null</td><td>null</td><td>null</td><td>null</td><td>null</td><td>&quot;Andy&quot;</td><td>&quot;Abad&quot;</td><td>&quot;Fausto Andres&quot;</td><td>184</td><td>73</td><td>&quot;L&quot;</td><td>&quot;L&quot;</td><td>&quot;2001-09-10&quot;</td><td>&quot;2006-04-13&quot;</td><td>&quot;abada001&quot;</td><td>&quot;abadan01&quot;</td><td>null</td><td>&quot;1972-08-25&quot;</td></tr></tbody></table></div>"
            ]
          },
          "metadata": {},
          "execution_count": 12
        }
      ]
    },
    {
      "cell_type": "code",
      "source": [
        "HallOfFame.head()"
      ],
      "metadata": {
        "colab": {
          "base_uri": "https://localhost:8080/",
          "height": 255
        },
        "id": "RP8n3InnCl8t",
        "outputId": "6c720bba-cab6-44de-ec53-447d75ffd668"
      },
      "execution_count": 13,
      "outputs": [
        {
          "output_type": "execute_result",
          "data": {
            "text/plain": [
              "shape: (5, 9)\n",
              "┌───────────┬────────┬─────────┬─────────┬───┬───────┬──────────┬──────────┬─────────────┐\n",
              "│ playerID  ┆ yearID ┆ votedBy ┆ ballots ┆ … ┆ votes ┆ inducted ┆ category ┆ needed_note │\n",
              "│ ---       ┆ ---    ┆ ---     ┆ ---     ┆   ┆ ---   ┆ ---      ┆ ---      ┆ ---         │\n",
              "│ str       ┆ i64    ┆ str     ┆ i64     ┆   ┆ i64   ┆ str      ┆ str      ┆ str         │\n",
              "╞═══════════╪════════╪═════════╪═════════╪═══╪═══════╪══════════╪══════════╪═════════════╡\n",
              "│ cobbty01  ┆ 1936   ┆ BBWAA   ┆ 226     ┆ … ┆ 222   ┆ Y        ┆ Player   ┆ null        │\n",
              "│ ruthba01  ┆ 1936   ┆ BBWAA   ┆ 226     ┆ … ┆ 215   ┆ Y        ┆ Player   ┆ null        │\n",
              "│ wagneho01 ┆ 1936   ┆ BBWAA   ┆ 226     ┆ … ┆ 215   ┆ Y        ┆ Player   ┆ null        │\n",
              "│ mathech01 ┆ 1936   ┆ BBWAA   ┆ 226     ┆ … ┆ 205   ┆ Y        ┆ Player   ┆ null        │\n",
              "│ johnswa01 ┆ 1936   ┆ BBWAA   ┆ 226     ┆ … ┆ 189   ┆ Y        ┆ Player   ┆ null        │\n",
              "└───────────┴────────┴─────────┴─────────┴───┴───────┴──────────┴──────────┴─────────────┘"
            ],
            "text/html": [
              "<div><style>\n",
              ".dataframe > thead > tr,\n",
              ".dataframe > tbody > tr {\n",
              "  text-align: right;\n",
              "  white-space: pre-wrap;\n",
              "}\n",
              "</style>\n",
              "<small>shape: (5, 9)</small><table border=\"1\" class=\"dataframe\"><thead><tr><th>playerID</th><th>yearID</th><th>votedBy</th><th>ballots</th><th>needed</th><th>votes</th><th>inducted</th><th>category</th><th>needed_note</th></tr><tr><td>str</td><td>i64</td><td>str</td><td>i64</td><td>i64</td><td>i64</td><td>str</td><td>str</td><td>str</td></tr></thead><tbody><tr><td>&quot;cobbty01&quot;</td><td>1936</td><td>&quot;BBWAA&quot;</td><td>226</td><td>170</td><td>222</td><td>&quot;Y&quot;</td><td>&quot;Player&quot;</td><td>null</td></tr><tr><td>&quot;ruthba01&quot;</td><td>1936</td><td>&quot;BBWAA&quot;</td><td>226</td><td>170</td><td>215</td><td>&quot;Y&quot;</td><td>&quot;Player&quot;</td><td>null</td></tr><tr><td>&quot;wagneho01&quot;</td><td>1936</td><td>&quot;BBWAA&quot;</td><td>226</td><td>170</td><td>215</td><td>&quot;Y&quot;</td><td>&quot;Player&quot;</td><td>null</td></tr><tr><td>&quot;mathech01&quot;</td><td>1936</td><td>&quot;BBWAA&quot;</td><td>226</td><td>170</td><td>205</td><td>&quot;Y&quot;</td><td>&quot;Player&quot;</td><td>null</td></tr><tr><td>&quot;johnswa01&quot;</td><td>1936</td><td>&quot;BBWAA&quot;</td><td>226</td><td>170</td><td>189</td><td>&quot;Y&quot;</td><td>&quot;Player&quot;</td><td>null</td></tr></tbody></table></div>"
            ]
          },
          "metadata": {},
          "execution_count": 13
        }
      ]
    },
    {
      "cell_type": "markdown",
      "metadata": {
        "id": "M9wo7SwoyU1y"
      },
      "source": [
        "## Question 2: How many home runs (`HR`) were hit by players born in Florida?\n",
        "\n",
        "#### Part A: Join the `Batting` and `People` DataFrames together\n",
        "\n",
        "In order to answer this question, you'll need to use the `Batting` and `People` DataFrames. The `Batting` DataFrame has hitting statistics for every season that an individual player has played. The `People` DataFrame represents biographical data about every professional baseball player.\n",
        "\n",
        "Join the `People` DataFrame into the `Batting` DataFrame so that we can perform analysis on batting statistics using columns from the `People` DataFrame. Name the new DataFrame `stats_w_bio`.\n",
        "\n",
        "*Insert a code block that joins the `Batting` DataFrame to the `People` DataFrame.*"
      ]
    },
    {
      "cell_type": "code",
      "execution_count": 14,
      "metadata": {
        "id": "BOYs3snEyU1y",
        "colab": {
          "base_uri": "https://localhost:8080/"
        },
        "outputId": "f119a11d-3802-4f8a-fe98-d8db2b214ef2"
      },
      "outputs": [
        {
          "output_type": "stream",
          "name": "stdout",
          "text": [
            "shape: (5, 47)\n",
            "┌───────────┬────────┬───────┬────────┬───┬──────────┬───────────┬────────────┬────────────┐\n",
            "│ playerID  ┆ yearID ┆ stint ┆ teamID ┆ … ┆ retroID  ┆ bbrefID   ┆ deathDate  ┆ birthDate  │\n",
            "│ ---       ┆ ---    ┆ ---   ┆ ---    ┆   ┆ ---      ┆ ---       ┆ ---        ┆ ---        │\n",
            "│ str       ┆ i64    ┆ i64   ┆ str    ┆   ┆ str      ┆ str       ┆ str        ┆ str        │\n",
            "╞═══════════╪════════╪═══════╪════════╪═══╪══════════╪═══════════╪════════════╪════════════╡\n",
            "│ abercda01 ┆ 1871   ┆ 1     ┆ TRO    ┆ … ┆ aberd101 ┆ abercda01 ┆ 1939-11-11 ┆ 1850-01-02 │\n",
            "│ addybo01  ┆ 1871   ┆ 1     ┆ RC1    ┆ … ┆ addyb101 ┆ addybo01  ┆ 1910-04-09 ┆ null       │\n",
            "│ allisar01 ┆ 1871   ┆ 1     ┆ CL1    ┆ … ┆ allia101 ┆ allisar01 ┆ 1916-02-25 ┆ 1849-01-29 │\n",
            "│ allisdo01 ┆ 1871   ┆ 1     ┆ WS3    ┆ … ┆ allid101 ┆ allisdo01 ┆ 1916-12-19 ┆ 1846-07-12 │\n",
            "│ ansonca01 ┆ 1871   ┆ 1     ┆ RC1    ┆ … ┆ ansoc101 ┆ ansonca01 ┆ 1922-04-14 ┆ 1852-04-17 │\n",
            "└───────────┴────────┴───────┴────────┴───┴──────────┴───────────┴────────────┴────────────┘\n"
          ]
        }
      ],
      "source": [
        "# Join Batting and People DataFrames\n",
        "stats_w_bio = Batting.join(People, on=\"playerID\", how=\"left\")\n",
        "\n",
        "print(stats_w_bio.head())"
      ]
    },
    {
      "cell_type": "markdown",
      "metadata": {
        "id": "Pr63NEFcyU1y"
      },
      "source": [
        "#### Part B: Calculate the total number of home runs that were hit by Florida-born players\n",
        "\n",
        "You would like to perform an analysis about how many home runs (`HR`) were hit by players that were born in the `birthState` of Florida (`FL`). Using the new `stats_w_bio` DataFrame that combines batting statistics with biographical information, compute the total number of home runs (`HR`) hit by players who were born (`birthState`) in Florida (`FL`) and name the new column `total_hr`. The DataFrame should have one row and be named `florida_hr`.\n",
        "\n",
        "*Insert a block of code that shows the computation of total home runs hit by players born in Florida. The output of this code block should be a DataFrame.*"
      ]
    },
    {
      "cell_type": "code",
      "execution_count": 15,
      "metadata": {
        "id": "bBGsxFDUyU1y",
        "colab": {
          "base_uri": "https://localhost:8080/"
        },
        "outputId": "c2336c00-c7bb-4e85-c183-289c496ede27"
      },
      "outputs": [
        {
          "output_type": "stream",
          "name": "stdout",
          "text": [
            "shape: (1, 1)\n",
            "┌──────────┐\n",
            "│ total_hr │\n",
            "│ ---      │\n",
            "│ i64      │\n",
            "╞══════════╡\n",
            "│ 16225    │\n",
            "└──────────┘\n"
          ]
        }
      ],
      "source": [
        "# Calculate total home runs by Florida-born players\n",
        "florida_players = stats_w_bio.filter(pl.col(\"birthState\") == \"FL\")\n",
        "\n",
        "# Compute total home runs\n",
        "florida_hr = florida_players.select(\n",
        "    pl.col(\"HR\").sum().alias(\"total_hr\")\n",
        ")\n",
        "\n",
        "print(florida_hr)"
      ]
    },
    {
      "cell_type": "markdown",
      "metadata": {
        "id": "d5v5qjkayU1y"
      },
      "source": [
        "## Question 3: What are the average number of career Hits (`H`) for Hall of Fame baseball players?\n",
        "\n",
        "#### Part A: Clean the `HallOfFame` DataFrame\n",
        "\n",
        "You would like to perform an analysis on the batting statistics of Hall of Fame baseball players. In order to answer this question, you'll need to use the `Batting` and `HallOfFame` DataFrames.\n",
        "\n",
        "The first thing that you have to do to perform this analysis is to join the `HallOfFame` data into the `Batting` data to understand which players are \"Hall of Famers\". To join the data correctly, we have to ensure that the `playerID` field is unique in `HallOfFame`. Not every player in the `HallOfFame` DataFrame is a Hall of Famer; their `inducted` field must have the value of `Y` and their `category` field should have the value of `Player`. Name the new DataFrame `hall_inducted`.\n",
        "\n",
        "*Insert a code block to transform the `HallOfFame` DataFrame to ensure that `playerID` is unique.*"
      ]
    },
    {
      "cell_type": "code",
      "execution_count": 16,
      "metadata": {
        "id": "P0lc9qLPyU1y",
        "colab": {
          "base_uri": "https://localhost:8080/"
        },
        "outputId": "c6ba957f-678a-43c9-c75c-6be267d35737"
      },
      "outputs": [
        {
          "output_type": "stream",
          "name": "stdout",
          "text": [
            "shape: (5, 9)\n",
            "┌───────────┬────────┬────────────┬─────────┬───┬───────┬──────────┬──────────┬─────────────┐\n",
            "│ playerID  ┆ yearID ┆ votedBy    ┆ ballots ┆ … ┆ votes ┆ inducted ┆ category ┆ needed_note │\n",
            "│ ---       ┆ ---    ┆ ---        ┆ ---     ┆   ┆ ---   ┆ ---      ┆ ---      ┆ ---         │\n",
            "│ str       ┆ i64    ┆ str        ┆ i64     ┆   ┆ i64   ┆ str      ┆ str      ┆ str         │\n",
            "╞═══════════╪════════╪════════════╪═════════╪═══╪═══════╪══════════╪══════════╪═════════════╡\n",
            "│ delahed01 ┆ 1945   ┆ Old Timers ┆ null    ┆ … ┆ null  ┆ Y        ┆ Player   ┆ null        │\n",
            "│ grimebu01 ┆ 1964   ┆ Veterans   ┆ null    ┆ … ┆ null  ┆ Y        ┆ Player   ┆ null        │\n",
            "│ seaveto01 ┆ 1992   ┆ BBWAA      ┆ 430     ┆ … ┆ 425   ┆ Y        ┆ Player   ┆ null        │\n",
            "│ riverma01 ┆ 2019   ┆ BBWAA      ┆ 425     ┆ … ┆ 425   ┆ Y        ┆ Player   ┆ null        │\n",
            "│ wilheho01 ┆ 1985   ┆ BBWAA      ┆ 395     ┆ … ┆ 331   ┆ Y        ┆ Player   ┆ null        │\n",
            "└───────────┴────────┴────────────┴─────────┴───┴───────┴──────────┴──────────┴─────────────┘\n"
          ]
        }
      ],
      "source": [
        "# Clean HallOfFame DataFrame\n",
        "hall_inducted = HallOfFame.filter(\n",
        "    (pl.col(\"inducted\") == \"Y\") & (pl.col(\"category\") == \"Player\")\n",
        ")\n",
        "\n",
        "hall_inducted = hall_inducted.unique(subset=[\"playerID\"])\n",
        "\n",
        "print(hall_inducted.head())"
      ]
    },
    {
      "cell_type": "markdown",
      "metadata": {
        "id": "A6z9HFdjyU1y"
      },
      "source": [
        "#### Part B: Find the average number of career hits across Hall of Fame players\n",
        "\n",
        "Join the `hall_inducted` data into the `Batting` data by `playerID`. Aggregate the data to compute the average total hits (`H`) across all Hall of Fame players. To do this, you will first need to calculate the total number of hits for each player and then calculate the average hits across all players. Call the new column `average_hits`. The resulting DataFrame should have one row and be named `hof_hits`.\n",
        "\n",
        "*Insert a code block that joins the `Batting` and the `hall_inducted` data together and then calculates the average number of career hits (`H`) across all Hall of Fame players. The output of this code block should be a DataFrame.*"
      ]
    },
    {
      "cell_type": "code",
      "execution_count": 18,
      "metadata": {
        "id": "JzWY4cVbyU1y",
        "colab": {
          "base_uri": "https://localhost:8080/"
        },
        "outputId": "159ed1d9-677e-4e34-d1b4-0bbb91934d60"
      },
      "outputs": [
        {
          "output_type": "stream",
          "name": "stdout",
          "text": [
            "shape: (1, 1)\n",
            "┌──────────────┐\n",
            "│ average_hits │\n",
            "│ ---          │\n",
            "│ f64          │\n",
            "╞══════════════╡\n",
            "│ 1717.29918   │\n",
            "└──────────────┘\n"
          ]
        }
      ],
      "source": [
        "# Calculate average career hits for Hall of Fame players\n",
        "hof_batting = Batting.join(hall_inducted, on=\"playerID\", how=\"inner\")\n",
        "\n",
        "# Calculate total hits per player\n",
        "total_hits_per_player = hof_batting.group_by(\"playerID\").agg(\n",
        "    pl.col(\"H\").sum().alias(\"total_hits\")\n",
        ")\n",
        "\n",
        "# Calculate average hits across all Hall of Fame players\n",
        "hof_hits = total_hits_per_player.select(\n",
        "    pl.col(\"total_hits\").mean().alias(\"average_hits\")\n",
        ")\n",
        "\n",
        "print(hof_hits)"
      ]
    }
  ],
  "metadata": {
    "kernelspec": {
      "display_name": "Python 3",
      "language": "python",
      "name": "python3"
    },
    "language_info": {
      "codemirror_mode": {
        "name": "ipython",
        "version": 3
      },
      "file_extension": ".py",
      "mimetype": "text/x-python",
      "name": "python",
      "nbconvert_exporter": "python",
      "pygments_lexer": "ipython3",
      "version": "3.12.0"
    },
    "colab": {
      "provenance": []
    }
  },
  "nbformat": 4,
  "nbformat_minor": 0
}